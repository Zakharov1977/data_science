{
  "nbformat": 4,
  "nbformat_minor": 0,
  "metadata": {
    "colab": {
      "provenance": [],
      "authorship_tag": "ABX9TyM8LlOFIAhpRTNr5+FlHnaS",
      "include_colab_link": true
    },
    "kernelspec": {
      "name": "python3",
      "display_name": "Python 3"
    },
    "language_info": {
      "name": "python"
    }
  },
  "cells": [
    {
      "cell_type": "markdown",
      "metadata": {
        "id": "view-in-github",
        "colab_type": "text"
      },
      "source": [
        "<a href=\"https://colab.research.google.com/github/Zakharov1977/data_science/blob/main/HW_3_1_3_2_Zakahrov_Alexander.ipynb\" target=\"_parent\"><img src=\"https://colab.research.google.com/assets/colab-badge.svg\" alt=\"Open In Colab\"/></a>"
      ]
    },
    {
      "cell_type": "markdown",
      "source": [
        "**Домашние задание HW1**"
      ],
      "metadata": {
        "id": "DlIDOQS3u_O6"
      }
    },
    {
      "cell_type": "markdown",
      "source": [
        "**Reversed integer**\n"
      ],
      "metadata": {
        "id": "l32w3xu4vDPd"
      }
    },
    {
      "cell_type": "code",
      "source": [
        "def naoborot(ch): # Функция записи числа в обратном порядке\n",
        "    result = 0   \n",
        "    while (ch!=0): # Исполнение при значении числа более 0\n",
        "    result = (result*10) + (ch%10) \n",
        "    ch=(ch-(ch%10))/10 #  Запись нового значения числа обратного заданному\n",
        "    return result\n"
      ],
      "metadata": {
        "id": "_NtiqD9dvPOy"
      },
      "execution_count": null,
      "outputs": []
    },
    {
      "cell_type": "code",
      "source": [
        "print(naoborot(123))"
      ],
      "metadata": {
        "id": "rIcCPIDryIOP"
      },
      "execution_count": null,
      "outputs": []
    },
    {
      "cell_type": "markdown",
      "source": [
        "**Выколотый квадрат**\n"
      ],
      "metadata": {
        "id": "mzmSXKhWvPbs"
      }
    },
    {
      "cell_type": "code",
      "source": [
        "n = int(input()) # количество точек стороны квадрата\n",
        "m=n\n",
        "for i in range(m):\n",
        "    for j in range(n):\n",
        "        print('*' if i in [0, n-1] or j in [0, m-1] else ' ', end='')\n",
        "    print()"
      ],
      "metadata": {
        "id": "28p-9bVqvTUW"
      },
      "execution_count": null,
      "outputs": []
    },
    {
      "cell_type": "markdown",
      "source": [
        "**Пермутации**\n"
      ],
      "metadata": {
        "id": "MTvod5pMvTks"
      }
    },
    {
      "cell_type": "code",
      "source": [],
      "metadata": {
        "id": "vOPwHxOJvX3T"
      },
      "execution_count": null,
      "outputs": []
    },
    {
      "cell_type": "markdown",
      "source": [
        "**Почти двойной факториал**\n"
      ],
      "metadata": {
        "id": "U8bgq_f9vX9y"
      }
    },
    {
      "cell_type": "code",
      "source": [],
      "metadata": {
        "id": "ybb3Gr4YveDo"
      },
      "execution_count": null,
      "outputs": []
    },
    {
      "cell_type": "markdown",
      "source": [
        "**Хитрая сортировка**\n"
      ],
      "metadata": {
        "id": "HJbvWxQDveKb"
      }
    },
    {
      "cell_type": "code",
      "source": [],
      "metadata": {
        "id": "hh-Mf-dBvkhx"
      },
      "execution_count": null,
      "outputs": []
    },
    {
      "cell_type": "markdown",
      "source": [
        "**Еще строки**\n"
      ],
      "metadata": {
        "id": "PsuIWsL4vkoB"
      }
    },
    {
      "cell_type": "code",
      "source": [],
      "metadata": {
        "id": "iPq1iKlMvoXS"
      },
      "execution_count": null,
      "outputs": []
    },
    {
      "cell_type": "markdown",
      "source": [
        "**Создание массивов**"
      ],
      "metadata": {
        "id": "-RNYze3nvokJ"
      }
    },
    {
      "cell_type": "code",
      "source": [],
      "metadata": {
        "id": "LLUtQtJtv4Ny"
      },
      "execution_count": null,
      "outputs": []
    },
    {
      "cell_type": "markdown",
      "source": [
        "**Обработка текста**"
      ],
      "metadata": {
        "id": "2JvNVoP7v4Uz"
      }
    },
    {
      "cell_type": "code",
      "source": [],
      "metadata": {
        "id": "dzBb1K0jv6Up"
      },
      "execution_count": null,
      "outputs": []
    },
    {
      "cell_type": "markdown",
      "source": [
        "**Расстояние Хэмминга**"
      ],
      "metadata": {
        "id": "rKfIJr_jv6dg"
      }
    },
    {
      "cell_type": "code",
      "source": [],
      "metadata": {
        "id": "GzsxbYrXv8OJ"
      },
      "execution_count": null,
      "outputs": []
    },
    {
      "cell_type": "markdown",
      "source": [],
      "metadata": {
        "id": "FS01zkk-v8UQ"
      }
    }
  ]
}