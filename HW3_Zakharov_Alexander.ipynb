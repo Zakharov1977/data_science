{
  "nbformat": 4,
  "nbformat_minor": 0,
  "metadata": {
    "colab": {
      "provenance": [],
      "authorship_tag": "ABX9TyOX8OJsLyJDRVOeMjmWfnY8",
      "include_colab_link": true
    },
    "kernelspec": {
      "name": "python3",
      "display_name": "Python 3"
    },
    "language_info": {
      "name": "python"
    }
  },
  "cells": [
    {
      "cell_type": "markdown",
      "metadata": {
        "id": "view-in-github",
        "colab_type": "text"
      },
      "source": [
        "<a href=\"https://colab.research.google.com/github/Zakharov1977/data_science/blob/main/HW3_Zakharov_Alexander.ipynb\" target=\"_parent\"><img src=\"https://colab.research.google.com/assets/colab-badge.svg\" alt=\"Open In Colab\"/></a>"
      ]
    },
    {
      "cell_type": "markdown",
      "source": [],
      "metadata": {
        "id": "OA12gOReGayT"
      }
    },
    {
      "cell_type": "markdown",
      "source": [
        "**Задание 1**"
      ],
      "metadata": {
        "id": "7vEC3Zd3GfSw"
      }
    },
    {
      "cell_type": "code",
      "source": [
        "# Программа возвращает лямбда функцию от аргумента y, \n",
        "# Возвращает True, если остаток от деления y на x равен mod, и False иначе.\n",
        "\n",
        "def mod_checker(x, mod=0):\n",
        "    return lambda y: y % x == mod\n",
        "    \n",
        "mod_3 = mod_checker(3)\n",
        "\n",
        "print(mod_3(3)) # True\n",
        "print(mod_3(4)) # False\n",
        "\n",
        "mod_3_1 = mod_checker(3, 1)\n",
        "print(mod_3_1(4)) # True"
      ],
      "metadata": {
        "id": "oOwujuPGHGBN"
      },
      "execution_count": null,
      "outputs": []
    },
    {
      "cell_type": "markdown",
      "source": [
        "**Задание 2**"
      ],
      "metadata": {
        "id": "aMNfHXhaGjds"
      }
    },
    {
      "cell_type": "code",
      "source": [
        "# Функция генерирующая нампаевскую матрицу размером (n, n)\n",
        "\n",
        "import numpy as np\n",
        "n = int(input())\n",
        "v=np.arange(n)%2\n",
        "m=np.meshgrid(v,v)\n",
        "chess = np.int8(m[0]!=m[1]) \n",
        "print(chess)"
      ],
      "metadata": {
        "id": "vIRXhZwjHp9q"
      },
      "execution_count": null,
      "outputs": []
    },
    {
      "cell_type": "markdown",
      "source": [
        "**Задание 3**"
      ],
      "metadata": {
        "id": "3mGMGdh9G2uY"
      }
    },
    {
      "cell_type": "code",
      "source": [
        "# Функция, принимающая 2 аргумента arr и exclude_values. arr\n",
        "# а также инвертирует все знаки массива\n",
        "\n",
        "def my_func3( arr, el):\n",
        "   for i in range(arr.size):\n",
        "      for j in range(el.size):       \n",
        "        if arr[i] == el[j]:   \n",
        "          arr[arr==[i]] = -arr[arr==[i]]\n",
        "   \n",
        "#Исходный вектор \n",
        "arr = np.arange(10+1)\n",
        "exclude_values = np.arange(4, 8)\n",
        " \n",
        "my_func3(arr, exclude_values)\n",
        "print(arr)"
      ],
      "metadata": {
        "id": "ELJJIPCAIOtG"
      },
      "execution_count": null,
      "outputs": []
    },
    {
      "cell_type": "markdown",
      "source": [
        "**Задание 4**"
      ],
      "metadata": {
        "id": "plulnK-oG4B5"
      }
    },
    {
      "cell_type": "code",
      "source": [
        "# Функция, принимающая одномерный положительный нампаевский массив \n",
        "# выводит массив с приведением значений к цельночисленным\n",
        "# modf divmod, floor_divide, mod, fmod\n",
        "\n",
        "def my_func4(arr):\n",
        "  print(arr)\n",
        "\n",
        "#metod 1\n",
        "  a1,a=np.modf(arr)\n",
        "  print(a)\n",
        "\n",
        "#metod 2\n",
        "  b1= np.ones(arr.size)\n",
        "  b,b2= np.divmod(arr, b1)\n",
        "  print(b)\n",
        "\n",
        "#metod 3\n",
        "  с=np.arange(arr.size)\n",
        "  for i in range(arr.size):\n",
        "    с[i]=arr[i] // b1[i]\n",
        "  print(с)\n",
        "\n",
        "#metod 4\n",
        "  print(np.floor_divide(arr, 1))\n",
        "\n",
        "arr = np.random.uniform(low=10, high=100,size=20)\n",
        "#print(arr)\n",
        "my_func4(arr)\n"
      ],
      "metadata": {
        "id": "HXy7fPQVIs34"
      },
      "execution_count": null,
      "outputs": []
    },
    {
      "cell_type": "markdown",
      "source": [
        "**Задание 5**"
      ],
      "metadata": {
        "id": "A2k4BegEG5RB"
      }
    },
    {
      "cell_type": "code",
      "source": [
        "# Aункцию, принимающая два числа - N и p. \n",
        "# N - это размер стороны квадратной матрицы np.zeros.\n",
        "# p - это количество индексов в матрице (p не превышает N*N)\n",
        "# Функция возвращает квадратную матрицу со стороной N, \n",
        "# в которой ровно p чисел заменены на случайные\n",
        "\n",
        "def my_func5(N, p):\n",
        "    s=(N,N)\n",
        "    arr=np.zeros(s)\n",
        "    temp = np.asarray(arr)  \n",
        "    shape = temp.shape       \n",
        "    temp = temp.flatten()   \n",
        "    inds = np.random.choice(temp.size, size=p)   \n",
        "    temp[inds] = np.random.normal(size=p)        \n",
        "    temp = temp.reshape(shape)                     \n",
        "    return temp\n",
        "\n",
        "test = np.arange(24).reshape(2,3,4)\n",
        "#print(test)\n",
        "print(my_func5(6, 10))"
      ],
      "metadata": {
        "id": "xM3-XxuDJZKu"
      },
      "execution_count": null,
      "outputs": []
    },
    {
      "cell_type": "markdown",
      "source": [
        "**Задание 6**"
      ],
      "metadata": {
        "id": "yMpeoW_nG6l9"
      }
    },
    {
      "cell_type": "code",
      "source": [
        "# Создание dataframe c именем my_data\n",
        "# в котором две колонки (type - строки, value - числа с плавающей точкой)\n",
        "\n",
        "import pandas as pd\n",
        "import numpy as np\n",
        "\n",
        "my_data = pd.DataFrame([['B', '18'],\n",
        "                  ['B', '20'],\n",
        "                  ['C', '10'],\n",
        "                  ['C', '-10']], \n",
        "columns=['type','value'])\n",
        "\n",
        "my_data['type']=my_data['type'].astype('string')\n",
        "my_data['value']=my_data['value'].astype('float')\n",
        "print(my_data)\n",
        "\n",
        "print(my_data.memory_usage())\n",
        "print(my_data.info())\n",
        "\n",
        "my_data['type']=my_data['type'].astype('category')\n",
        "print(my_data.memory_usage())\n",
        "print(my_data.info())\n",
        "\n",
        "my_data['value']=my_data['value'].astype('bool')\n",
        "print(my_data.memory_usage())\n",
        "print(my_data.info())"
      ],
      "metadata": {
        "colab": {
          "base_uri": "https://localhost:8080/"
        },
        "id": "AwTRnmeEKN3V",
        "outputId": "16ea4256-275d-4d05-cc25-fe75498396af"
      },
      "execution_count": 1,
      "outputs": [
        {
          "output_type": "stream",
          "name": "stdout",
          "text": [
            "  type  value\n",
            "0    B   18.0\n",
            "1    B   20.0\n",
            "2    C   10.0\n",
            "3    C  -10.0\n",
            "Index    128\n",
            "type      32\n",
            "value     32\n",
            "dtype: int64\n",
            "<class 'pandas.core.frame.DataFrame'>\n",
            "RangeIndex: 4 entries, 0 to 3\n",
            "Data columns (total 2 columns):\n",
            " #   Column  Non-Null Count  Dtype  \n",
            "---  ------  --------------  -----  \n",
            " 0   type    4 non-null      string \n",
            " 1   value   4 non-null      float64\n",
            "dtypes: float64(1), string(1)\n",
            "memory usage: 192.0 bytes\n",
            "None\n",
            "Index    128\n",
            "type     128\n",
            "value     32\n",
            "dtype: int64\n",
            "<class 'pandas.core.frame.DataFrame'>\n",
            "RangeIndex: 4 entries, 0 to 3\n",
            "Data columns (total 2 columns):\n",
            " #   Column  Non-Null Count  Dtype   \n",
            "---  ------  --------------  -----   \n",
            " 0   type    4 non-null      category\n",
            " 1   value   4 non-null      float64 \n",
            "dtypes: category(1), float64(1)\n",
            "memory usage: 288.0 bytes\n",
            "None\n",
            "Index    128\n",
            "type     128\n",
            "value      4\n",
            "dtype: int64\n",
            "<class 'pandas.core.frame.DataFrame'>\n",
            "RangeIndex: 4 entries, 0 to 3\n",
            "Data columns (total 2 columns):\n",
            " #   Column  Non-Null Count  Dtype   \n",
            "---  ------  --------------  -----   \n",
            " 0   type    4 non-null      category\n",
            " 1   value   4 non-null      bool    \n",
            "dtypes: bool(1), category(1)\n",
            "memory usage: 260.0 bytes\n",
            "None\n"
          ]
        }
      ]
    },
    {
      "cell_type": "markdown",
      "source": [
        "**Задание 7**"
      ],
      "metadata": {
        "id": "EnLrXmDeG71w"
      }
    },
    {
      "cell_type": "code",
      "source": [
        "# Создание dataframe c двумя колонками и десятью тысячами наблюдений\n",
        "# В каждой колонке 10 уникальныъ значений\n",
        "\n",
        "import string\n",
        "import random\n",
        "import pandas as pd\n",
        "import numpy as np\n",
        "\n",
        "my_data7 = pd.DataFrame([['B', '18'],\n",
        "                  ['B', '20'],\n",
        "                  ['C', '10'],\n",
        "                  ['C', '-10']], \n",
        "columns=['type','value'])\n",
        "\n",
        "my_data7['type']=my_data7['type'].astype('string')\n",
        "my_data7['value']=my_data7['value'].astype('float')\n",
        "\n",
        "\n",
        "\n",
        "for i in range(9996):\n",
        "  temp = {'type':random.choice(string.ascii_letters),'value':random.randint(0,100)}\n",
        "  my_data7.loc[len(my_data7.index)] = temp\n",
        "\n",
        "\n",
        "print(my_data7)"
      ],
      "metadata": {
        "id": "8jSOhM5hKm3h"
      },
      "execution_count": null,
      "outputs": []
    },
    {
      "cell_type": "markdown",
      "source": [
        "**Задание 8**"
      ],
      "metadata": {
        "id": "1cN9Bq6RG-Vu"
      }
    },
    {
      "cell_type": "code",
      "source": [
        "\n",
        "df = pd.read_csv('https://stepik.org/media/attachments/course/4852/my_stat.csv')\n",
        "#print(df)\n",
        "\n",
        "# Сохранение в переменную  subset_1 первые 19 строк и только 1 и 3 колонку\n",
        "\n",
        "subset_1 = df.loc[0:19, ['V1', 'V3']]\n",
        "#print(subset_1)\n",
        "\n",
        "# Сохранение в переменную  subset_2 строки кроме 2, 3 и 18 и 2 и 4 колонку\n",
        "\n",
        "subset_2  = df.drop(index=[2,3,18], columns=['V1','V3'])\n",
        "print(subset_2)"
      ],
      "metadata": {
        "colab": {
          "base_uri": "https://localhost:8080/"
        },
        "id": "rfrb-W69LPx0",
        "outputId": "43c98114-444b-443f-abe6-674b913f7e83"
      },
      "execution_count": 2,
      "outputs": [
        {
          "output_type": "stream",
          "name": "stdout",
          "text": [
            "       V2   V4\n",
            "0    13.0  1.0\n",
            "1     7.0  1.0\n",
            "4    10.0 -1.0\n",
            "5    11.0  0.0\n",
            "6     9.0  2.0\n",
            "..    ...  ...\n",
            "495   8.0 -1.0\n",
            "496   8.0  1.0\n",
            "497  11.0  2.0\n",
            "498  11.0  2.0\n",
            "499   8.0  1.0\n",
            "\n",
            "[497 rows x 2 columns]\n"
          ]
        }
      ]
    },
    {
      "cell_type": "markdown",
      "source": [
        "**Задание 9**"
      ],
      "metadata": {
        "id": "obvL6uBPG_11"
      }
    },
    {
      "cell_type": "code",
      "source": [
        "# Сохранение в переменную  subset_3 наблюдения\n",
        "# у которых значения переменной V1 строго больше 0\n",
        "# и значение переменной V3 равняется 'A'\n",
        "\n",
        "subset_3 =df[((df['V1'] > 0) & (df['V3'] == 'A'))]\n",
        "print(subset_3)\n",
        "\n",
        "# Сохранение в переменную  subset_4 наблюдения\n",
        "# у которых значения переменной V2 не равняются 10\n",
        "# или значения переменной V4 больше или равно 1\n",
        "\n",
        "subset_4 = df[((df['V2'] != 10) | (df['V4'] >= 1))]\n",
        "print(subset_4)"
      ],
      "metadata": {
        "colab": {
          "base_uri": "https://localhost:8080/"
        },
        "id": "EZm0byqAMJcY",
        "outputId": "fcd8095b-e25b-4066-fd53-7562ae722eaa"
      },
      "execution_count": 3,
      "outputs": [
        {
          "output_type": "stream",
          "name": "stdout",
          "text": [
            "     V1    V2 V3   V4\n",
            "3     2  11.0  A  2.0\n",
            "5     2  11.0  A  0.0\n",
            "7     1   9.0  A  1.0\n",
            "10    1  10.0  A  1.0\n",
            "13    1  12.0  A  3.0\n",
            "..   ..   ... ..  ...\n",
            "491   4   7.0  A  2.0\n",
            "494   1  11.0  A  1.0\n",
            "495   1   8.0  A -1.0\n",
            "496   3   8.0  A  1.0\n",
            "498   1  11.0  A  2.0\n",
            "\n",
            "[88 rows x 4 columns]\n",
            "     V1    V2 V3   V4\n",
            "0     2  13.0  B  1.0\n",
            "1    -1   7.0  B  1.0\n",
            "2     0  11.0  A  0.0\n",
            "3     2  11.0  A  2.0\n",
            "5     2  11.0  A  0.0\n",
            "..   ..   ... ..  ...\n",
            "495   1   8.0  A -1.0\n",
            "496   3   8.0  A  1.0\n",
            "497  -1  11.0  B  2.0\n",
            "498   1  11.0  A  2.0\n",
            "499   0   8.0  B  1.0\n",
            "\n",
            "[447 rows x 4 columns]\n"
          ]
        }
      ]
    },
    {
      "cell_type": "markdown",
      "source": [
        "**Задание 10**"
      ],
      "metadata": {
        "id": "tLCYDQK8HA_v"
      }
    },
    {
      "cell_type": "code",
      "source": [
        "# Добавление колонок в data set (см. задание 8)\n",
        "\n",
        "df['V5 '] = df['V1'] + df['V4']\n",
        "df['V6 '] = np.log(df['V2'])\n",
        "print(df)"
      ],
      "metadata": {
        "id": "pAFC6MwcMxec"
      },
      "execution_count": null,
      "outputs": []
    },
    {
      "cell_type": "markdown",
      "source": [
        "**Задание 11**"
      ],
      "metadata": {
        "id": "BzIJY27cHCHt"
      }
    },
    {
      "cell_type": "code",
      "source": [
        "# Переименование колонок в data set в df.\n",
        "# V1 -> session_value\n",
        "# V2 -> group\n",
        "# V3 -> time\n",
        "# V4 -> n_users\n",
        "\n",
        "df = df.rename(columns={'V1': 'session_value', \n",
        "                        'V2': 'group',\n",
        "                        'V3': 'time',\n",
        "                        'V4': 'n_users',})"
      ],
      "metadata": {
        "id": "aZQRRAqgNP_V"
      },
      "execution_count": null,
      "outputs": []
    },
    {
      "cell_type": "markdown",
      "source": [
        "**Задание 12**"
      ],
      "metadata": {
        "id": "sbiIavQFHD2R"
      }
    },
    {
      "cell_type": "code",
      "source": [
        "# Замена в массиве my_stat в колонке session_value пропущенные значения на нули\n",
        "\n",
        "my_stat = pd.read_csv('https://stepik.org/media/attachments/course/4852/my_stat_1.csv')\n",
        "my_stat = my_stat.fillna(0)\n",
        "my_stat.loc[my_stat[\"n_users\"] < 0, \"n_users\"] = \\\n",
        "    my_stat.loc[my_stat[\"n_users\"] >= 0, \"n_users\"].median()\n",
        "print(my_stat)"
      ],
      "metadata": {
        "id": "8l2LiHIZNnz0"
      },
      "execution_count": null,
      "outputs": []
    }
  ]
}