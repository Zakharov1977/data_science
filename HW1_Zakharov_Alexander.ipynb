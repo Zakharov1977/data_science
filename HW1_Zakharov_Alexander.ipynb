{
  "nbformat": 4,
  "nbformat_minor": 0,
  "metadata": {
    "colab": {
      "provenance": [],
      "authorship_tag": "ABX9TyMaya7+z7mYec7y3bQVM32w",
      "include_colab_link": true
    },
    "kernelspec": {
      "name": "python3",
      "display_name": "Python 3"
    },
    "language_info": {
      "name": "python"
    }
  },
  "cells": [
    {
      "cell_type": "markdown",
      "metadata": {
        "id": "view-in-github",
        "colab_type": "text"
      },
      "source": [
        "<a href=\"https://colab.research.google.com/github/Zakharov1977/data_science/blob/main/HW1_Zakharov_Alexander.ipynb\" target=\"_parent\"><img src=\"https://colab.research.google.com/assets/colab-badge.svg\" alt=\"Open In Colab\"/></a>"
      ]
    },
    {
      "cell_type": "markdown",
      "source": [
        "**Домашние задание HW1**"
      ],
      "metadata": {
        "id": "3BI7gLsrj_rg"
      }
    },
    {
      "cell_type": "markdown",
      "source": [
        "**Задание 1**\n",
        "\n",
        "Студент магистратуры обычно спит ночью XX часов и устраивает себе днем тихий час на YY минут. Определите, сколько всего студент спит в сутки (если вообще спит). Программа должна принимать значения XX и YY из стандартного потока ввода (функция input), результат надо выводить в стандартный поток вывода (функция print)."
      ],
      "metadata": {
        "id": "kMtt-8EqkTph"
      }
    },
    {
      "cell_type": "code",
      "source": [
        "30\n",
        "night_hours = int(input('Сколько Вы спали сегодня ночью? ')) \n",
        "day_minuts = int(input('Сколько минут Вы спали сегодня днем? '))\n",
        "print(('Вы спали: '), night_hours*60 + day_minuts, ' минут(ы)')"
      ],
      "metadata": {
        "id": "Ha5yzQ9wkWvn"
      },
      "execution_count": null,
      "outputs": []
    },
    {
      "cell_type": "code",
      "source": [
        "#Решение задания 1.2\n",
        "X = int(input()) # Время сна ночью (часы)\n",
        "Y = int(input()) # Время сна днем (минуты)\n",
        "print(X*60 + Y) #  Общее длительность сна (минуты)"
      ],
      "metadata": {
        "colab": {
          "base_uri": "https://localhost:8080/"
        },
        "id": "yS-8eyhI5y0z",
        "outputId": "4e3c89ea-1fd1-495e-dbba-65a214bbfe80"
      },
      "execution_count": 5,
      "outputs": [
        {
          "output_type": "stream",
          "name": "stdout",
          "text": [
            "0\n",
            "42\n",
            "42\n"
          ]
        }
      ]
    },
    {
      "cell_type": "markdown",
      "source": [
        "**Задание 2**\n",
        "\n",
        "Студент МФТИ каждый день ложится спать ровно в полночь и недавно узнал, что оптимальное время для его сна составляет XX минут. Он хочет поставить себе будильник так, чтобы он прозвенел ровно через XX минут после полуночи, однако для этого необходимо указать время сигнала в формате часы, минуты. Помогите студенту определить, на какое время завести будильник. Часы и минуты в выводе программы должны располагаться на разных строках"
      ],
      "metadata": {
        "id": "EvliKVQklFN1"
      }
    },
    {
      "cell_type": "code",
      "source": [
        "#Решение задания 2.1\n",
        "s_time = int(input('Каково ваше оптимальное время сна в минутах? '))\n",
        "print('Заведите будильник на ',  s_time//60, ':',  s_time%60)"
      ],
      "metadata": {
        "id": "RF2TnfwBkjnh"
      },
      "execution_count": null,
      "outputs": []
    },
    {
      "cell_type": "code",
      "source": [
        "#Решение задания 2.2\n",
        "a=int(input()) # Время сна в минутах\n",
        "print(int(a//60)) # Время будильника (часы)\n",
        "print(int(a%60)) # Время будильника (минуты)"
      ],
      "metadata": {
        "id": "KhWTNgt0530X"
      },
      "execution_count": null,
      "outputs": []
    },
    {
      "cell_type": "markdown",
      "source": [
        "**Задание 3**\n",
        "\n",
        "Студент программы “Анализ данных в медицине” узнал, что ему для сна надо XX минут. В отличие от студента МФТИ, наш студент ложится спать после полуночи в HH часов и MM минут. Помогите определить, на какое время ему поставить будильник, чтобы он прозвенел ровно через XX минут после того, как он ляжет спать. На стандартный ввод, каждое в своей строке, подаются значения XX, HH и MM. Гарантируется, что студент программы “Fнализ данных в медицине” должен проснуться в тот же день, что и заснуть. Программа должна выводить время, на которое нужно поставить будильник: в первой строке часы, во второй — минуты."
      ],
      "metadata": {
        "id": "c-KI--TBrEND"
      }
    },
    {
      "cell_type": "code",
      "source": [
        "#Решение задания 3\n",
        "X= int(input())\n",
        "H= int(input())\n",
        "M= int(input())\n",
        "print(((H*60)+X+M)//60)\n",
        "print((X+M)%60)"
      ],
      "metadata": {
        "id": "5xlrN9q1rHgw"
      },
      "execution_count": null,
      "outputs": []
    },
    {
      "cell_type": "markdown",
      "source": [
        "**Задание 4**\n",
        "\n",
        "Напишите программу, на вход которой подается список чисел одной строкой. Программа должна для каждого элемента этого списка вывести сумму двух его соседей. Для элементов списка, являющихся крайними, одним из соседей считается элемент, находящийся на противоположном конце этого списка. Например, если на вход подаётся список \"1 3 5 6 10\", то на выход ожидается список \"13 6 9 15 7\" (без кавычек).\n",
        "\n",
        "Если на вход пришло только одно число, надо вывести его же. Вывод должен содержать одну строку с числами нового списка, разделенными пробелом."
      ],
      "metadata": {
        "id": "P3rNwOJUwlRj"
      }
    },
    {
      "cell_type": "code",
      "source": [
        "#Решение задания 4\n",
        "list1 = [int(i) for i in input().split()]\n",
        "\n",
        "if len(list1) == 1:\n",
        "    print(list1[0])\n",
        "\n",
        "elif len(list1) == 2:\n",
        "    print(list1[1]*2, list1[0]*2)\n",
        "\n",
        "else:\n",
        "    for i in range(len(list1)):\n",
        "        if i < len(list1) - 1:\n",
        "            print(list1[i-1] + list1[i+1], end=\" \" )\n",
        "        else:\n",
        "            print(list1[0] + list1[i-1])"
      ],
      "metadata": {
        "id": "JUrnDzjvwpcW"
      },
      "execution_count": null,
      "outputs": []
    },
    {
      "cell_type": "markdown",
      "source": [
        "**Задание 5**\n",
        "\n",
        "Напишите программу, которая принимает на вход список чисел в одной строке и выводит на экран в одну строку значения, которые встречаются в нём более одного раза.\n",
        "\n",
        "Для решения задачи может пригодиться метод sort списка (а может и не пригодиться).\n",
        "\n",
        "Выводимые числа не должны повторяться, порядок их вывода может быть произвольным. Разделитель чисел - пробел"
      ],
      "metadata": {
        "id": "ZncrUdAkwp4a"
      }
    },
    {
      "cell_type": "code",
      "source": [
        "#Решение задания 5\n",
        "s=[int(i) for i in input().split()]\n",
        "s.sort()\n",
        "m=[]\n",
        "for i in range(len(s)):\n",
        "    if i>0:\n",
        "        if s[i]==s[i-1]:\n",
        "            if s[i] not in m:\n",
        "                m+=[s[i]]\n",
        "for i in m:\n",
        "    print(i, end=\" \")"
      ],
      "metadata": {
        "id": "DseY4AH1wttD"
      },
      "execution_count": null,
      "outputs": []
    },
    {
      "cell_type": "markdown",
      "source": [
        "**Задание 6**\n",
        "\n",
        "GC-состав является важной характеристикой геномных последовательностей и определяется как процентное соотношение суммы всех гуанинов и цитозинов к общему числу нуклеиновых оснований в геномной последовательности.\n",
        "\n",
        "Напишите программу, которая вычисляет процентное содержание символов G (гуанин) и C (цитозин) в введенной строке (программа не должна зависеть от регистра вводимых символов). Например, в строке \"acggtgttat\" процентное содержание символов G и C равно 4*0.1 * 100 = 40.0, где 4 - это количество символов G и C, а 10 - это длина строки."
      ],
      "metadata": {
        "id": "WVzvx6ijwuVL"
      }
    },
    {
      "cell_type": "code",
      "source": [
        "#Решение задания 6\n",
        "a = input()\n",
        "res1 = a.upper()\n",
        "k = res1.count('C')\n",
        "k2 = res1.count('G')\n",
        "k3 = int(k) + int(k2)\n",
        "k4 = res1.count('')\n",
        "result = (k3 / (k4 - 1)) * 100\n",
        "print(result)"
      ],
      "metadata": {
        "id": "b3fnkBzDwxcm"
      },
      "execution_count": null,
      "outputs": []
    },
    {
      "cell_type": "markdown",
      "source": [
        "**Задание 7**\n",
        "\n",
        "Узнав, что ДНК не является случайной строкой, только что поступившие в МФТИ студенты группы аналитиков данных предложили использовать алгоритм сжатия, который сжимает повторяющиеся символы в строке. Кодирование осуществляется следующим образом: s = 'aaaabbсaa' преобразуется в 'a4b2с1a2', то есть группы одинаковых символов исходной строки заменяются на этот символ и количество его повторений в этой позиции строки.\n",
        "\n",
        "Напишите программу, которая считывает строку, кодирует её предложенным алгоритмом и выводит закодированную последовательность на стандартный вывод. Кодирование должно учитывать регистр символов."
      ],
      "metadata": {
        "id": "v7FrnQXlwxwq"
      }
    },
    {
      "cell_type": "code",
      "source": [
        "#Решение задания 7\n",
        "s = str(input())\n",
        "l = len(s)-1\n",
        "c = 1\n",
        "t = ''\n",
        "if len(s)==1:\n",
        "    t = t +s+str(c)\n",
        "else:\n",
        "    for i in range(0,l):\n",
        "        if s[i]==s[i+1]:\n",
        "            c +=1\n",
        "        elif s[i]!=s[i+1]:\n",
        "            t = t + s[i]+str(c)\n",
        "            c = 1\n",
        "    for j in range(l,l+1):\n",
        "        if s[-1]==s[-2]:\n",
        "            t = t +s[j]+str(c)\n",
        "        elif s[-1]!=s[-2]:\n",
        "            t = t +s[j]+str(c)\n",
        "            c = 1\n",
        "print(t)"
      ],
      "metadata": {
        "id": "GMEqKqmew0h5"
      },
      "execution_count": null,
      "outputs": []
    },
    {
      "cell_type": "markdown",
      "source": [
        "**Задание 8**\n",
        "\n",
        "Напишите программу, которая считывает с консоли числа (по одному в строке) до тех пор, пока сумма введённых чисел не будет равна 0 и сразу после этого выводит сумму квадратов всех считанных чисел. Гарантируется, что в какой-то момент сумма введённых чисел окажется равной 0, после этого считывание продолжать не нужно. В примере мы считываем числа 1, -3, 5, -6, -10, 13; в этот момент замечаем, что сумма этих чисел равна нулю и выводим сумму их квадратов, не обращая внимания на то, что остались ещё не прочитанные значения."
      ],
      "metadata": {
        "id": "mJmkHVHew0yr"
      }
    },
    {
      "cell_type": "code",
      "source": [
        "#Решение задания 8\n",
        "a1 = int (input())\n",
        "s= a1\n",
        "s2 = 0+abs(a1**2)\n",
        "while s!=0:\n",
        "    a1 = int(input())\n",
        "    s = s + a1\n",
        "    s2 = s2+abs(a1)**2\n",
        "    if s==0:\n",
        "        break\n",
        "print(s2)"
      ],
      "metadata": {
        "id": "4HNtH-ra5Sc-"
      },
      "execution_count": null,
      "outputs": []
    },
    {
      "cell_type": "markdown",
      "source": [
        "**Задание 9**\n",
        "\n",
        "Самое время использовать математику. Вы поднимаетесь по лестнице. Количество ступенек в ней = n.\n",
        "\n",
        "На каждом этапе вы можете переступить либо одну, либо две ступеньки. Как много уникальных способов добраться до верха существует?\n",
        "\n",
        "1<=n<=45"
      ],
      "metadata": {
        "id": "5h60Zz__w3T7"
      }
    },
    {
      "cell_type": "code",
      "source": [
        "#Решение задания 9\n",
        "def climbStairs( n):      \n",
        "        f = []\n",
        "        f.append(1)\n",
        "        f.append(2)\n",
        "\n",
        "        for i in range(2, n):\n",
        "            f.append(f[i - 1] + f[i - 2])\n",
        "      \n",
        "        return f[n - 1]\n",
        "        \n",
        "a = int (input())\n",
        "print(climbStairs(a))"
      ],
      "metadata": {
        "id": "0foEP2WHw6AU"
      },
      "execution_count": null,
      "outputs": []
    },
    {
      "cell_type": "markdown",
      "source": [
        "**Задание 10**\n",
        "\n",
        "Напишите функцию, чтобы найти самый длинный префикс в листе, составленном из строк.\n",
        "\n",
        "Если общего префикса нет - верните пустую строку."
      ],
      "metadata": {
        "id": "udC_j0Qnw6ZC"
      }
    },
    {
      "cell_type": "code",
      "source": [
        "#Решение задания 10\n",
        "def longestCommonPrefix( strs):\n",
        "    assert len(strs) > 0\n",
        "    prefix = min(strs,key=len)\n",
        "    while not all(s.startswith(prefix) for s in strs):\n",
        "        prefix = prefix[:-1]\n",
        "    return prefix\n",
        "strs = [\"flower\",\"flow\",\"flight\"]\n",
        "print(longestCommonPrefix(strs))"
      ],
      "metadata": {
        "id": "MTzl-IUAw9EF"
      },
      "execution_count": null,
      "outputs": []
    }
  ]
}